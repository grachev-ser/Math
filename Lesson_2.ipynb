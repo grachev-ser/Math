{
 "cells": [
  {
   "cell_type": "markdown",
   "id": "04d85030",
   "metadata": {},
   "source": [
    "### 1. Прочитать высказывания математической логики, построить их отрицания и установить истинность"
   ]
  },
  {
   "cell_type": "markdown",
   "id": "782ee4d4",
   "metadata": {},
   "source": [
    "1.1. Для любого y, принадлещего интервалу от 0 до 1 включительно, кусочно-постоянная функция действительного аргумента принимает значение 1. Высказывание ложно."
   ]
  },
  {
   "cell_type": "markdown",
   "id": "cc67b8dd",
   "metadata": {},
   "source": [
    "$\\forall y \\in [0;1]:sgn(y)=1$  \n",
    "$\\exists y \\in [0;1]:sgn(y)\\neq 1$"
   ]
  },
  {
   "cell_type": "markdown",
   "id": "a1c858aa",
   "metadata": {},
   "source": [
    "1.2. Для любого n больше 2, принадлежащего множеству натуральных чисел, существуют x, y, z, принадлежащие множеству натуральных чисел, для которых выполняется раветство $x^n = y^n + z^n$. Высказывание истинно."
   ]
  },
  {
   "cell_type": "markdown",
   "id": "91900ed5",
   "metadata": {},
   "source": [
    "$\\forall n \\in \\mathbb {N} > 2 : \\exists x, y, z \\in \\mathbb {N}: x^n = y^n + z^n$  \n",
    "$\\exists n \\in \\mathbb {N} > 2 : \\forall x, y, z \\in \\mathbb {N}: x^n \\neq y^n + z^n$"
   ]
  },
  {
   "cell_type": "markdown",
   "id": "4745cd59",
   "metadata": {},
   "source": [
    "1.3. Для любого x, принадлежащего множеству действительных чисел, существует последовательность X, принадлежащая множеству действительных чисел, для которой выполняется неравенство X > x. Высказывание ложно."
   ]
  },
  {
   "cell_type": "markdown",
   "id": "1dc64e98",
   "metadata": {},
   "source": [
    "$\\forall x \\in \\mathbb {R} \\exists X \\in \\mathbb {R} :X >x$  \n",
    "$\\exists x \\in \\mathbb {R} \\forall X \\in \\mathbb {R} :X < x$"
   ]
  },
  {
   "cell_type": "markdown",
   "id": "244009ba",
   "metadata": {},
   "source": [
    "1.4. Для любого x, принадлежащего множеству комплексных чисел, не существует y, принадлежащего множеству комплексных чисел, для которого выполняется неравенство x > y или x < y. Высказывание истинно."
   ]
  },
  {
   "cell_type": "markdown",
   "id": "c99b1bea",
   "metadata": {},
   "source": [
    "$\\forall x \\in \\mathbb {C} \\nexists y \\in \\mathbb {C} : x > y \\parallel x < y$  \n",
    "$\\exists x \\in \\mathbb {C} \\exists y \\in \\mathbb {C} : (x < y) \\& (x > y) $ "
   ]
  },
  {
   "cell_type": "markdown",
   "id": "ef8885e5",
   "metadata": {},
   "source": [
    "1.5. Для любого y, принадлежащего интервалу от 0 до $\\frac{\\pi}{2}$ включительно, существует $\\epsilon$ больше 0, для которого выполняется неравенство $\\sin{y} < \\sin{(y + \\epsilon)}$. Высказывание ложно."
   ]
  },
  {
   "cell_type": "markdown",
   "id": "f06e5a01",
   "metadata": {},
   "source": [
    "$\\forall y \\in [0; \\frac {\\pi} {2}] \\exists \\epsilon> 0: \\sin{y} < \\sin{(y + \\epsilon)}$  \n",
    "$\\exists y \\in [0; \\frac {\\pi} {2}] \\forall \\epsilon > 0: \\sin{y} > \\sin{(y + \\epsilon)}$"
   ]
  },
  {
   "cell_type": "markdown",
   "id": "0d9bf075",
   "metadata": {},
   "source": [
    "1.6. Для любого y, принадлежащего интервалу от 0 включительно до $\\pi $ невключительно, существует $\\epsilon$ больше 0, для которого выполняется неравенство $\\cos{y} < \\cos{(y + \\epsilon)}$. Высказывание истино."
   ]
  },
  {
   "cell_type": "markdown",
   "id": "d1a7e238",
   "metadata": {},
   "source": [
    "$\\forall y \\in [0; \\pi) \\exists \\epsilon> 0: \\cos{y} > \\cos{(y + \\epsilon)}$  \n",
    "$\\exists y \\in [0; \\pi) \\forall \\epsilon > 0: \\cos{y} < \\cos{(y + \\epsilon)}$"
   ]
  },
  {
   "cell_type": "markdown",
   "id": "fa65ff31",
   "metadata": {},
   "source": [
    "1.7. Для любого x, x не является элементом множества натуральных, целых, рациональных, действительных и комплексных чисел. Высказывание ложно."
   ]
  },
  {
   "cell_type": "markdown",
   "id": "f51a53b9",
   "metadata": {},
   "source": [
    "$\\exists x: x \\notin \\{\\mathbb{N, Z, Q, R, C}\\}$  \n",
    "$\\forall x: x \\in \\{\\mathbb{N, Z, Q, R, C}\\}$"
   ]
  },
  {
   "cell_type": "markdown",
   "id": "9d2ce081",
   "metadata": {},
   "source": [
    "### 2. Даны три множества a,b и с. Необходимо выполнить все изученные виды бинарных операций над всеми комбинациями множеств."
   ]
  },
  {
   "cell_type": "markdown",
   "id": "f90a4ef8",
   "metadata": {},
   "source": [
    "$a = \\{1, 2, 3\\}$  \n",
    "$b = \\{1, 5, 10\\}$  \n",
    "$c = \\{1, 2, 7\\}$  "
   ]
  },
  {
   "cell_type": "markdown",
   "id": "5d1fd7ff",
   "metadata": {},
   "source": [
    "2.1. Пересечение  \n",
    "$a \\cap b \\cap c = \\{1\\}$\n",
    "\n",
    "2.2. Объединение  \n",
    "$a \\cup b \\cup c = \\{1, 2, 3, 5, 7, 10\\}$\n",
    "\n",
    "2.3. Разность  \n",
    "$a \\setminus b \\setminus c = \\{3\\}$\n",
    "\n",
    "2.4. Симметричной разность  \n",
    "$a \\Delta b \\Delta c = \\{3, 5, 7, 10\\}$\n",
    "\n",
    "2.5. Декартово произведение  \n",
    "$a \\times b \\times c = \\{(1, 1, 1), (1, 1, 2),\\dots \\}$"
   ]
  },
  {
   "cell_type": "code",
   "execution_count": 5,
   "id": "209728b3",
   "metadata": {},
   "outputs": [],
   "source": [
    "a = {1, 2, 3}\n",
    "b = {1, 5, 10}\n",
    "c = {1, 2, 7}"
   ]
  },
  {
   "cell_type": "code",
   "execution_count": 6,
   "id": "ce7d8dfa",
   "metadata": {},
   "outputs": [
    {
     "data": {
      "text/plain": [
       "{1}"
      ]
     },
     "execution_count": 6,
     "metadata": {},
     "output_type": "execute_result"
    }
   ],
   "source": [
    "a & b & c"
   ]
  },
  {
   "cell_type": "code",
   "execution_count": 7,
   "id": "fb067829",
   "metadata": {},
   "outputs": [
    {
     "data": {
      "text/plain": [
       "{1, 2, 3, 5, 7, 10}"
      ]
     },
     "execution_count": 7,
     "metadata": {},
     "output_type": "execute_result"
    }
   ],
   "source": [
    "a | b | c"
   ]
  },
  {
   "cell_type": "code",
   "execution_count": 8,
   "id": "83973500",
   "metadata": {},
   "outputs": [
    {
     "data": {
      "text/plain": [
       "{3}"
      ]
     },
     "execution_count": 8,
     "metadata": {},
     "output_type": "execute_result"
    }
   ],
   "source": [
    "a - b - c"
   ]
  },
  {
   "cell_type": "code",
   "execution_count": 9,
   "id": "a524fe81",
   "metadata": {},
   "outputs": [
    {
     "data": {
      "text/plain": [
       "{3, 5, 7, 10}"
      ]
     },
     "execution_count": 9,
     "metadata": {},
     "output_type": "execute_result"
    }
   ],
   "source": [
    "(a - b - c) | (b - c - a) | (c - a - b)"
   ]
  },
  {
   "cell_type": "code",
   "execution_count": 10,
   "id": "3c2da96e",
   "metadata": {},
   "outputs": [
    {
     "name": "stdout",
     "output_type": "stream",
     "text": [
      "(1, 1, 1) (1, 1, 2) (1, 1, 7) (1, 10, 1) (1, 10, 2) (1, 10, 7) (1, 5, 1) (1, 5, 2) (1, 5, 7) (2, 1, 1) (2, 1, 2) (2, 1, 7) (2, 10, 1) (2, 10, 2) (2, 10, 7) (2, 5, 1) (2, 5, 2) (2, 5, 7) (3, 1, 1) (3, 1, 2) (3, 1, 7) (3, 10, 1) (3, 10, 2) (3, 10, 7) (3, 5, 1) (3, 5, 2) (3, 5, 7)\n"
     ]
    }
   ],
   "source": [
    "import itertools\n",
    "print(*itertools.product(a, b, c))"
   ]
  },
  {
   "cell_type": "code",
   "execution_count": null,
   "id": "5210c4a8",
   "metadata": {},
   "outputs": [],
   "source": []
  }
 ],
 "metadata": {
  "kernelspec": {
   "display_name": "Python 3",
   "language": "python",
   "name": "python3"
  },
  "language_info": {
   "codemirror_mode": {
    "name": "ipython",
    "version": 3
   },
   "file_extension": ".py",
   "mimetype": "text/x-python",
   "name": "python",
   "nbconvert_exporter": "python",
   "pygments_lexer": "ipython3",
   "version": "3.8.8"
  }
 },
 "nbformat": 4,
 "nbformat_minor": 5
}

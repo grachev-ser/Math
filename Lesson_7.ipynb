{
 "cells": [
  {
   "cell_type": "markdown",
   "id": "0164382a",
   "metadata": {},
   "source": [
    "### Задание №1"
   ]
  },
  {
   "cell_type": "markdown",
   "id": "936cb234",
   "metadata": {},
   "source": [
    "Найти длину $x$ и ширину $y$ прямоугольника при заданном периметре $P=144см$, при которых данный прямоугольник имеет наибольшую площадь $S$."
   ]
  },
  {
   "cell_type": "markdown",
   "id": "6c20cefb",
   "metadata": {},
   "source": [
    "$ 2(x + y) = 144 $\n",
    "\n",
    "$ S = xy $\n",
    "\n",
    "$ y = 72 - x $\n",
    "\n",
    "$ S = 72x - x^2 $\n",
    "\n",
    "$ S' = 72 - 2x $\n",
    "\n",
    "$ x = 36 $\n",
    "\n",
    "$ y = 36 $"
   ]
  },
  {
   "cell_type": "markdown",
   "id": "3c013c4d",
   "metadata": {},
   "source": [
    "### Задание №2"
   ]
  },
  {
   "cell_type": "markdown",
   "id": "62ab84fc",
   "metadata": {},
   "source": [
    "$U = x^2y + \\frac{1}{3}y^3 + 2x^2 + 3y^2 - 1$\n",
    "$\\begin{cases} U'_x =2xy + 4x = 0 \\ U'_y = x^2 + y^2 + 6y = 0 \\end{cases}$\n",
    "\n",
    "$\\begin{cases} \\left[ \\begin{array}{lc} x = 0 \\ y = -2 \\end{array} \\right. \\ x^2 + y^2 + 6y = 0 \\end{cases}$\n",
    "\n",
    "$\\left[ \\begin{array}{lc} \\begin{cases} x = 0 \\ y^2 + 6y = 0 \\end{cases} \\ \\begin{cases} y = -2 \\ x^2 = 8 \\end{cases} \\end{array} \\right.$\n",
    "\n",
    "$\\begin{array}{|l} (0,0) \\ (0, -6) \\ (2 \\sqrt{2}, -2) \\ (-2\\sqrt{2}, -2) \\end{array}$\n",
    "\n",
    "$U'_x = 2xy + 4x$\n",
    "\n",
    "$U'_y = x^2 + y^2 +6y$\n",
    "\n",
    "$U''_{xx} = 2y + 4$\n",
    "\n",
    "$U''{xy} = U''{yx} = 2x$\n",
    "\n",
    "$U''_{yy} = 2y + 6$\n",
    "\n",
    "$\\begin{pmatrix} U''{xx} & U''{xy} \\ U''{yx} & U''{yy} \\end{pmatrix}$\n",
    "\n",
    "$\\begin{pmatrix} 2y + 4 & 2x \\ 2x & 2y + 6 \\end{pmatrix}$\n",
    "\n",
    "$\\Delta_1 = 2y + 4$\n",
    "\n",
    "$\\Delta_2 =$ $\\begin{vmatrix} 2y + 4 & 2x \\ 2x & 2y + 6 \\end{vmatrix}$ $=4y^2 +20y +24 - 4x^2$\n",
    "\n",
    "$(0,0)$\n",
    "\n",
    "$\\Delta_1 = 2y + 4 = 4 > 0 \\quad \\Delta_2 = 4y^2 + 20y + 24 - 4x^2 = 24 > 0$\n",
    "\n",
    "$(0,-6)$\n",
    "\n",
    "$\\Delta_1 = 2y + 4 = -8 < 0 \\quad \\Delta_2 = 4y^2 + 20y + 24 - 4x^2 = 48 > 0$\n",
    "\n",
    "$(\\pm 2\\sqrt{2}, -2)$\n",
    "\n",
    "$\\Delta_1 = 2y + 4 = 0 \\quad \\Delta_2 = 4y^2 + 20y + 24 - 4x^2 = -32 < 0$\n",
    "\n",
    "* $U = e^{\\frac{-x}{2}}(x^2 + y^2)$\n",
    "$\\begin{cases} U'_x = -\\frac{1}{2} e^{ \\frac{-x}{2} }(x^2 + y^2) + e^{ \\frac{-x}{2} }\\cdot 2x = 0 \\ U'_y = e^{ \\frac{-x}{2} } \\cdot 2y = 0 \\end{cases}$\n",
    "\n",
    "$\\begin{cases} -\\frac{1}{2} (x^2 + y^2) + 2x = 0 \\ y = 0 \\end{cases}$\n",
    "\n",
    "$\\begin{cases} x^2 - 4x = 0 \\ y = 0 \\end{cases}$\n",
    "\n",
    "$\\begin{array}{|l} (0,0) \\ (4,0) \\end{array}$\n",
    "\n",
    "$U'_x = -\\frac{1}{2} e^{ \\frac{-x}{2} }(x^2 + y^2) + e^{ \\frac{-x}{2} }\\cdot 2x$\n",
    "\n",
    "$U'_y = e^{ \\frac{-x}{2} } \\cdot 2y$\n",
    "\n",
    "$U''_{xx} = \\frac{1}{4} e^{ \\frac{-x}{2} }(x^2 + y^2) - \\frac{1}{2} e^{ \\frac{-x}{2} } \\cdot 2x - \\frac{1}{2} e^{ \\frac{-x}{2} } \\cdot 2x + 2e^{ \\frac{-x}{2} }$\n",
    "\n",
    "$U''{xy} = U''{yx} = - \\frac{1}{2} e^{ \\frac{-x}{2} } \\cdot 2y$\n",
    "\n",
    "$U''_{yy} = 2e^{ \\frac{-x}{2} }$\n",
    "\n",
    "$(0,0)$\n",
    "\n",
    "$\\Delta_1 = 2 > 0$\n",
    "\n",
    "$\\Delta_2 =$ $\\begin{vmatrix} 2 & 0 \\ 0 & 2 \\end{vmatrix}$ $= 4 > 0$\n",
    "\n",
    "$(4,0)$\n",
    "\n",
    "$\\Delta_1 = \\frac{1}{4} e^{-2} \\cdot 16 - \\frac{1}{2} e^{-2} \\cdot 8 - \\frac{1}{2} e^{-2} \\cdot 8 + 2e^{-2} = -\\frac{2}{e^2} < 0$\n",
    "\n",
    "$\\Delta_2 =$ $\\begin{vmatrix} -\\frac{2}{e^2} & 0 \\ 0 & -\\frac{2}{e^2} \\end{vmatrix}$ $= -\\frac{4}{e^4} < 0$"
   ]
  },
  {
   "cell_type": "code",
   "execution_count": null,
   "id": "1426f642",
   "metadata": {},
   "outputs": [],
   "source": []
  }
 ],
 "metadata": {
  "kernelspec": {
   "display_name": "Python 3",
   "language": "python",
   "name": "python3"
  },
  "language_info": {
   "codemirror_mode": {
    "name": "ipython",
    "version": 3
   },
   "file_extension": ".py",
   "mimetype": "text/x-python",
   "name": "python",
   "nbconvert_exporter": "python",
   "pygments_lexer": "ipython3",
   "version": "3.8.8"
  }
 },
 "nbformat": 4,
 "nbformat_minor": 5
}

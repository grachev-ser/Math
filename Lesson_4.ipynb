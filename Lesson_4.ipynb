{
 "cells": [
  {
   "cell_type": "markdown",
   "metadata": {},
   "source": [
    "# Тема “Предел функции”"
   ]
  },
  {
   "cell_type": "markdown",
   "metadata": {},
   "source": [
    "### 1. Предложить пример функции, не имеющей предела в нуле и в бесконечностях"
   ]
  },
  {
   "cell_type": "markdown",
   "metadata": {},
   "source": [
    "$$f(x) = \\sin{\\left(x+\\frac{1}{x}\\right)}$$"
   ]
  },
  {
   "cell_type": "markdown",
   "metadata": {},
   "source": [
    "### 2. Привести пример функции, не имеющей предела в точке, но определенной в ней"
   ]
  },
  {
   "cell_type": "markdown",
   "metadata": {},
   "source": [
    "$$f(x) = sign(x)$$"
   ]
  },
  {
   "cell_type": "markdown",
   "metadata": {},
   "source": [
    "### 3. Исследовать функцию $f(x) = x^3 - x^2$ по плану:  \n",
    "a. Область задания и область значений $(-\\infty; +\\infty)$  \n",
    "\n",
    "b. Нули функции и их кратность $0; 1$ \n",
    "\n",
    "c. Отрезки знакопостоянства $(-\\infty; 0): f(x) < 0; (0; 1): f(x) < 0; (1; +\\infty): f(x) > 0$  \n",
    "\n",
    "d. Интервалы монотонности $(-\\infty; 0), (\\frac{2}{3}; +\\infty) - возрастает; (0; \\frac{2}{3}) - убывает$\n",
    "\n",
    "e. ни чётная и ни нечётная\n",
    "\n",
    "g. не является периодической "
   ]
  },
  {
   "cell_type": "markdown",
   "metadata": {},
   "source": [
    "### 4. Найти предел"
   ]
  },
  {
   "cell_type": "markdown",
   "metadata": {},
   "source": [
    "4.1. $\\lim\\limits_{x \\to 0}\\frac{3x^3-2x^2}{4x^2} = \\left({\\color{red}{\\frac{0}{0}}}\\right) = $\n",
    "\n",
    "$\\lim\\limits_{x \\to 0}\\frac{3x^3-2x^2}{4x^2} = \\frac{3}{4}x^2 - \\frac{1}{2} = $\n",
    "\n",
    "$\\lim\\limits_{x \\to 0}\\frac{3}{4}x^2 - \\frac{1}{2} = - \\frac{1}{2}$"
   ]
  }
 ],
 "metadata": {
  "kernelspec": {
   "display_name": "Python 3",
   "language": "python",
   "name": "python3"
  },
  "language_info": {
   "codemirror_mode": {
    "name": "ipython",
    "version": 3
   },
   "file_extension": ".py",
   "mimetype": "text/x-python",
   "name": "python",
   "nbconvert_exporter": "python",
   "pygments_lexer": "ipython3",
   "version": "3.8.8"
  },
  "toc": {
   "base_numbering": 1,
   "nav_menu": {},
   "number_sections": true,
   "sideBar": true,
   "skip_h1_title": false,
   "title_cell": "Table of Contents",
   "title_sidebar": "Contents",
   "toc_cell": false,
   "toc_position": {},
   "toc_section_display": true,
   "toc_window_display": false
  },
  "varInspector": {
   "cols": {
    "lenName": 16,
    "lenType": 16,
    "lenVar": 40
   },
   "kernels_config": {
    "python": {
     "delete_cmd_postfix": "",
     "delete_cmd_prefix": "del ",
     "library": "var_list.py",
     "varRefreshCmd": "print(var_dic_list())"
    },
    "r": {
     "delete_cmd_postfix": ") ",
     "delete_cmd_prefix": "rm(",
     "library": "var_list.r",
     "varRefreshCmd": "cat(var_dic_list()) "
    }
   },
   "types_to_exclude": [
    "module",
    "function",
    "builtin_function_or_method",
    "instance",
    "_Feature"
   ],
   "window_display": false
  }
 },
 "nbformat": 4,
 "nbformat_minor": 4
}

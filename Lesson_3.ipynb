{
 "cells": [
  {
   "cell_type": "markdown",
   "id": "893b1615",
   "metadata": {},
   "source": [
    "### 1. Как относятся друг к другу множество и последовательность? (в ответе использовать слова типа: часть, целое, общее, частное, родитель, дочерний субъект и т.д.)"
   ]
  },
  {
   "cell_type": "markdown",
   "id": "3fc86e92",
   "metadata": {},
   "source": [
    "Множество — это совокупность, собрание каких-либо объектов обладащих общим для всех характеристическим свойством.\n",
    "\n",
    "Последовательность — набор элементов некоторого множества.\n",
    "\n",
    "Последовательность, является частью некоторого множества объектов. Последовательность является результатом последовательного выбора элементов заданного множества."
   ]
  },
  {
   "cell_type": "markdown",
   "id": "f63f4c54",
   "metadata": {},
   "source": [
    "### 2. Даны 4 последовательности. Необходимо:\n",
    "а) исследовать их на монотонность; \n",
    "б) исследовать на ограниченность;\n",
    "в) найти пятый по счету член."
   ]
  },
  {
   "cell_type": "markdown",
   "id": "472afc74",
   "metadata": {},
   "source": [
    "+ $\\{a_n\\}^\\infty_{n=1}=2^n -n$  \n",
    "\n",
    "а) монотонная последовательность\n",
    "\n",
    "б) возрастающая\n",
    "\n",
    "в) $27$"
   ]
  },
  {
   "cell_type": "markdown",
   "id": "c5a580ed",
   "metadata": {},
   "source": [
    "+ $\\{b_n\\}^\\infty_{n=2} = \\frac {1} {1 -n}$  \n",
    "\n",
    "а) монотонная последовательность\n",
    "\n",
    "б) возрастающая\n",
    "\n",
    "с) $-\\frac{1}{5}$"
   ]
  },
  {
   "cell_type": "markdown",
   "id": "51132ca7",
   "metadata": {},
   "source": [
    "+ $\\{c_n\\}^\\infty_{n=1} = -1^n + \\sqrt{2n}$  \n",
    "\n",
    "а) монотонная последовательность\n",
    "\n",
    "б) возрастающая\n",
    "\n",
    "с) $\\sqrt{10} - 1 \\approx 2.162$"
   ]
  },
  {
   "cell_type": "markdown",
   "id": "eadf0fc3",
   "metadata": {},
   "source": [
    "+ $\\{d_n\\}^\\infty_{n=1}= (-1)^{2n} + \\frac{1}{n^2}$  \n",
    "\n",
    "а) нестрогая монотонность\n",
    "\n",
    "б) нестрого убывает\n",
    "\n",
    "с) $1\\frac{1}{25}$"
   ]
  },
  {
   "cell_type": "markdown",
   "id": "013a262e",
   "metadata": {},
   "source": [
    "### 3. Найти 12-й член заданной неявно последовательности"
   ]
  },
  {
   "cell_type": "markdown",
   "id": "61fa6fc2",
   "metadata": {},
   "source": [
    "$a_1 =128, a_{n+1} - a_n =6$\n",
    "\n",
    "$a_n = 128 + 5n$\n",
    "\n",
    "$a_{12} = 194$"
   ]
  },
  {
   "cell_type": "markdown",
   "id": "2a9a681b",
   "metadata": {},
   "source": [
    "### 4. На языке Python предложить алгоритм вычисляющий численно предел"
   ]
  },
  {
   "cell_type": "markdown",
   "id": "be1d170e",
   "metadata": {},
   "source": [
    "$\\lim\\limits_{n \\to +\\infty} \\frac{n}{\\sqrt[n]{n!}}$ с точностью $\\epsilon = 10^{-7}$"
   ]
  },
  {
   "cell_type": "code",
   "execution_count": 5,
   "id": "03526cef",
   "metadata": {},
   "outputs": [],
   "source": [
    "from math import factorial\n",
    "from decimal import Decimal, getcontext\n",
    "getcontext().prec = 10"
   ]
  },
  {
   "cell_type": "code",
   "execution_count": 6,
   "id": "d32eaa83",
   "metadata": {},
   "outputs": [
    {
     "ename": "KeyboardInterrupt",
     "evalue": "",
     "output_type": "error",
     "traceback": [
      "\u001b[1;31m---------------------------------------------------------------------------\u001b[0m",
      "\u001b[1;31mKeyboardInterrupt\u001b[0m                         Traceback (most recent call last)",
      "\u001b[1;32m<timed exec>\u001b[0m in \u001b[0;36m<module>\u001b[1;34m\u001b[0m\n",
      "\u001b[1;31mKeyboardInterrupt\u001b[0m: "
     ]
    }
   ],
   "source": [
    "%%time\n",
    "n = 1\n",
    "e = 1e-6\n",
    "delta = 1\n",
    "s_prev = 0\n",
    "while delta > e:\n",
    "    s = Decimal(n) / (Decimal(factorial(n)) ** Decimal(1/n))\n",
    "    delta = s - s_prev\n",
    "    s_prev = s\n",
    "    n += 1\n",
    "    \n",
    "print(f' n = {n}, \\n delta = {delta}')"
   ]
  },
  {
   "cell_type": "code",
   "execution_count": null,
   "id": "7372bb35",
   "metadata": {},
   "outputs": [],
   "source": []
  }
 ],
 "metadata": {
  "kernelspec": {
   "display_name": "Python 3",
   "language": "python",
   "name": "python3"
  },
  "language_info": {
   "codemirror_mode": {
    "name": "ipython",
    "version": 3
   },
   "file_extension": ".py",
   "mimetype": "text/x-python",
   "name": "python",
   "nbconvert_exporter": "python",
   "pygments_lexer": "ipython3",
   "version": "3.8.8"
  }
 },
 "nbformat": 4,
 "nbformat_minor": 5
}

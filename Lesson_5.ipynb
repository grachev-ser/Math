{
 "cells": [
  {
   "cell_type": "markdown",
   "metadata": {},
   "source": [
    "### Задание №1. Найти предел"
   ]
  },
  {
   "cell_type": "markdown",
   "metadata": {},
   "source": [
    "$$\\lim\\limits_{x \\to \\infty}\\left(\\frac{x+3}{x}\\right)^{4x+1} = ({\\color{red}{\\frac{\\infty}{\\infty}}}) = $$\n",
    "\n",
    "$$\\lim\\limits_{x \\to \\infty}\\left(1 + \\frac{3}{x}\\right)^{4x+1} = ({\\color{red}{1^\\infty}}) = $$\n",
    "\n",
    "$$\\lim\\limits_{x \\to \\infty}\\left(1 + \\frac{3}{x}\\right)^{\\frac{x}{3} \\bullet \\frac{3}{x} \\bullet (4x+1) } = $$\n",
    "\n",
    "$$ e^{\\lim\\limits_{x \\to \\infty}\\frac{12x+1}{x}} = e^{12}$$"
   ]
  },
  {
   "cell_type": "markdown",
   "metadata": {},
   "source": [
    "### Задание №2. Найти предел"
   ]
  },
  {
   "cell_type": "markdown",
   "metadata": {},
   "source": [
    "a. $$\\lim\\limits_{x \\to 0}\\frac{\\sin{(2x)}}{4x} = \\left({\\color{red}{\\frac{0}{0}}}\\right) = \\lim\\limits_{x \\to 0}\\frac{\\sin{(2x)}}{2 \\bullet 2x} = \\frac{1}{2}$$  "
   ]
  },
  {
   "cell_type": "markdown",
   "metadata": {},
   "source": [
    "b. $$\\lim\\limits_{x \\to 0}\\frac{x}{\\sin{x}} = \\left({\\color{red}{\\frac{0}{0}}}\\right) = 1$$  "
   ]
  },
  {
   "cell_type": "markdown",
   "metadata": {},
   "source": [
    "c. $$\\lim\\limits_{x \\to 0}\\frac{x}{\\arcsin{x}} = \\left({\\color{red}{\\frac{0}{0}}}\\right) = 1$$  "
   ]
  },
  {
   "cell_type": "markdown",
   "metadata": {},
   "source": [
    "d. $$\\lim\\limits_{x \\to \\infty}\\left(\\frac{4x+3}{4x-3} \\right)^{6x} = ({\\color{red}{\\frac{\\infty}{\\infty}}}) = $$\n",
    "\n",
    "$$\\lim\\limits_{x \\to \\infty}\\left(1 + \\frac{6}{4x - 3}\\right) ^{6x} = ({\\color{red}{1^\\infty}}) = $$  \n",
    "\n",
    "$$\\lim\\limits_{x \\to \\infty}\\left(1 + \\frac{6}{4x - 3}\\right) ^{\\frac{4x - 3}{6} \\bullet \\frac{6}{4x - 3} \\bullet 6x} = $$\n",
    "\n",
    "$$e^{\\lim\\limits_{x \\to \\infty} \\frac{36x}{4x -3}} = e^{\\frac{36}{4}} = e^9$$"
   ]
  },
  {
   "cell_type": "markdown",
   "metadata": {},
   "source": [
    "e. $$\\lim\\limits_{x \\to \\infty}\\frac{\\sin{x}+\\ln{x}}{x} = \\lim\\limits_{x \\to \\infty}\\left(\\frac{\\sin{x}}{x} + \\frac{\\ln{x}}{x}\\right) = \\lim\\limits_{x \\to \\infty} \\frac{\\sin{x}}{x} + \\lim\\limits_{x \\to \\infty}\\frac{\\ln{x}}{x}$$\n",
    "\n",
    "$$\\lim\\limits_{x \\to \\infty} \\frac{\\sin{x}}{x} = \\lim\\limits_{x \\to \\infty} \\left( \\frac{-1}{x} \\leq \\frac{\\sin{x}}{x} \\leq \\frac{1}{x} \\right)$$\n",
    "\n",
    "$$\\lim\\limits_{x \\to \\infty} \\frac{-1}{x} = \\lim\\limits_{x \\to \\infty} \\frac{1}{x} = 0 $$\n",
    "\n",
    "$$\\lim\\limits_{x \\to \\infty}\\frac{\\ln{x}}{x} = ({\\color{red}{\\frac{\\infty}{\\infty}}}) = \\lim\\limits_{x \\to \\infty} \\frac{\\frac{d}{dx}[\\ln{x}]}{\\frac{d}{dx}[x]} = \\lim\\limits_{x \\to \\infty} \\frac{\\frac{1}{x}}{1} = \\frac{\\lim\\limits_{x \\to \\infty}\\frac{1}{x}}{\\lim\\limits_{x \\to \\infty} 1} = \\frac{0}{1} = 0$$\n",
    "\n",
    "$$\\lim\\limits_{x \\to \\infty} \\frac{\\sin{x}}{x} + \\lim\\limits_{x \\to \\infty}\\frac{\\ln{x}}{x} = 0 + 0 = 0 $$"
   ]
  },
  {
   "cell_type": "markdown",
   "metadata": {},
   "source": [
    "f. $$\\lim\\limits_{x \\to 0}\\frac{\\sin{x}+\\ln{x}}{x} = \\lim\\limits_{x \\to 0}\\left(\\frac{\\sin{x}}{x} + \\frac{\\ln{x}}{x}\\right) = \\lim\\limits_{x \\to 0} \\frac{\\sin{x}}{x} + \\lim\\limits_{x \\to 0}\\frac{\\ln{x}}{x}$$\n",
    "\n",
    "$$\\lim\\limits_{x \\to 0} \\frac{\\sin{x}}{x} = \\left({\\color{red}{\\frac{0}{0}}}\\right) = 1$$\n",
    "\n",
    "$$\\lim\\limits_{x \\to 0}\\frac{\\ln{x}}{x} = \\emptyset$$\n",
    "\n",
    "$$\\lim\\limits_{x \\to 0} \\frac{\\sin{x}}{x} + \\lim\\limits_{x \\to 0}\\frac{\\ln{x}}{x} = 1 + \\emptyset = \\emptyset$$"
   ]
  },
  {
   "cell_type": "markdown",
   "metadata": {},
   "source": [
    "### Задание №3. Найти производную выражения"
   ]
  },
  {
   "cell_type": "markdown",
   "metadata": {},
   "source": [
    "a. $$\\sin{x} \\cdot \\cos{x} = (\\sin{x})'\\cdot \\cos{x} + \\sin{x} \\cdot (\\cos{x})' = \\cos^2{x} - \\sin^2{x}$$\n",
    "\n",
    "b. $$\\ln{(2x + 1)^3} = \\frac{1}{(2x + 1)^3}\\cdot 3(2x + 1)^2 \\cdot 2 = \\frac{6}{2x +1}$$\n",
    "\n",
    "d. $$\\frac{x^4}{\\ln{(x)}} = \\frac{4x^3\\cdot \\ln{(x)} - x^4 \\frac{1}{x} }{\\ln^2{(x)}} = \\frac{x^3\\ln{(x^4)} - x^3}{\\ln^2{(x)}} = \\frac{x^3(\\ln{(x^4)} - 1)}{\\ln^2{(x)}}$$\n",
    "\n"
   ]
  },
  {
   "cell_type": "code",
   "execution_count": null,
   "metadata": {},
   "outputs": [],
   "source": []
  }
 ],
 "metadata": {
  "kernelspec": {
   "display_name": "Python 3",
   "language": "python",
   "name": "python3"
  },
  "language_info": {
   "codemirror_mode": {
    "name": "ipython",
    "version": 3
   },
   "file_extension": ".py",
   "mimetype": "text/x-python",
   "name": "python",
   "nbconvert_exporter": "python",
   "pygments_lexer": "ipython3",
   "version": "3.8.8"
  },
  "toc": {
   "base_numbering": 1,
   "nav_menu": {},
   "number_sections": true,
   "sideBar": true,
   "skip_h1_title": false,
   "title_cell": "Table of Contents",
   "title_sidebar": "Contents",
   "toc_cell": false,
   "toc_position": {},
   "toc_section_display": true,
   "toc_window_display": false
  },
  "varInspector": {
   "cols": {
    "lenName": 16,
    "lenType": 16,
    "lenVar": 40
   },
   "kernels_config": {
    "python": {
     "delete_cmd_postfix": "",
     "delete_cmd_prefix": "del ",
     "library": "var_list.py",
     "varRefreshCmd": "print(var_dic_list())"
    },
    "r": {
     "delete_cmd_postfix": ") ",
     "delete_cmd_prefix": "rm(",
     "library": "var_list.r",
     "varRefreshCmd": "cat(var_dic_list()) "
    }
   },
   "types_to_exclude": [
    "module",
    "function",
    "builtin_function_or_method",
    "instance",
    "_Feature"
   ],
   "window_display": false
  }
 },
 "nbformat": 4,
 "nbformat_minor": 4
}

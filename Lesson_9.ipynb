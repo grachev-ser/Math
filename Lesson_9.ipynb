{
 "cells": [
  {
   "cell_type": "markdown",
   "metadata": {},
   "source": [
    "### Задание №1. Исследовать на условный экстремум"
   ]
  },
  {
   "cell_type": "markdown",
   "metadata": {},
   "source": [
    "$U = 3 -8x + 6y$, если $x^2 + y^2 = 36$\n",
    "\n",
    "$L(\\lambda_1, x, y) = 3 - 8x + 6y + \\lambda_1 \\cdot (x^2 + y^2 - 36)$\n",
    "\n",
    "$\\begin{cases}\n",
    "  L'_x = -8 + \\lambda_1 \\cdot 2x = 0\\\\\n",
    "  L'_y = 6 + \\lambda_1 \\cdot 2y = 0\\\\\n",
    "  L'_{\\lambda_1} = x^2 + y^2 - 36\n",
    "\\end{cases}$\n",
    "\n",
    "$\\begin{cases}\n",
    "    x = \\frac{4}{\\lambda_1} \\\\\n",
    "    y = -\\frac{3}{\\lambda_1} \\\\\n",
    "    \\frac{16}{\\lambda_1^2} + \\frac{9}{\\lambda_1^2} = 36\n",
    "\\end{cases}$\n",
    "\n",
    "$\\begin{cases}\n",
    "  x = \\frac{4}{\\lambda_1} \\\\\n",
    "  y = -\\frac{3}{\\lambda_1} \\\\\n",
    "  \\lambda_1 = \\pm \\frac{5}{6}\n",
    "\\end{cases}$\n",
    "\n",
    "$\\left(\\frac{5}{6}, \\frac{24}{5}, -\\frac{18}{5}\\right), \\left(-\\frac{5}{6}, -\\frac{24}{5}, \\frac{18}{5}\\right)$\n",
    "\n",
    "$L''_{xx} = 2\\lambda_1$\n",
    "\n",
    "$L''_{yy} = 2\\lambda_1$\n",
    "\n",
    "$L''_{\\lambda_1\\lambda_1} = 0$\n",
    "\n",
    "$L''_{xy} = 0$\n",
    "\n",
    "$L''_{x\\lambda_1} = 2x$\n",
    "\n",
    "$L''_{y\\lambda_1} = 2y$\n",
    "\n",
    "$\\begin{pmatrix}\n",
    "    L''_{\\lambda_1\\lambda_1} & L''_{\\lambda_1 x} & L''_{\\lambda_1 y} \\\\\n",
    "    L''_{x \\lambda_1} & L''_{xx} & L''_{xy} \\\\\n",
    "    L''_{y \\lambda_1} & L''{yx} & L''{yy}\n",
    "\\end{pmatrix} =\n",
    "\\begin{pmatrix}\n",
    "  0 & 2x & 2y\\\\\n",
    "  2x & 2\\lambda_1 & 0\\\\\n",
    "  2y & 0 & 2\\lambda_1\n",
    "\\end{pmatrix} =\n",
    "-8 \\lambda_1(x^2+y^2)$\n",
    "\n",
    "$\\left(\\frac{5}{6}, \\frac{24}{5}, -\\frac{18}{5}\\right),\\Delta_1 = -240, \\Delta_1 < 0  \\implies \\text{точка минимума}$\n",
    "\n",
    "$\\left(-\\frac{5}{6}, -\\frac{24}{5}, \\frac{18}{5}\\right), \\Delta_2 = 240, \\Delta_2 > 0  \\implies \\text{точка максимума}$"
   ]
  },
  {
   "cell_type": "markdown",
   "metadata": {},
   "source": [
    "### Задание №2. Исследовать на условный экстремум"
   ]
  },
  {
   "cell_type": "markdown",
   "metadata": {},
   "source": [
    "$U =2x^2 + 12xy +32y^2 + 15$, если $x^2 + 16y^2 =64$\n",
    "\n",
    "$L(\\lambda_1, x, y) = 2x^2 + 12xy +32y^2 + 15 + \\lambda_1 \\cdot (x^2 + 16y^2  - 64)$\n",
    "\n",
    "$\\begin{cases}\n",
    "  L'_x = 4x + 12y + 2x \\lambda_1 = 0 \\\\\n",
    "  L'_y = 12x + 64y + 32y\\lambda_1 = 0 \\\\\n",
    "  L'_{\\lambda_1} = x^2 + 16y^2  - 64 = 0\n",
    "\\end{cases}$\n",
    "\n",
    "$\\begin{cases}\n",
    "    \\lambda_1 = - \\frac{2x + 6y}{x} \\\\\n",
    "    \\lambda_1 = - \\frac{3x + 16y}{8y} \\\\\n",
    "    x^2 +16y^2 = 64\n",
    "\\end{cases}$\n",
    "\n",
    "$\\begin{cases}\n",
    "    \\lambda_1 = - \\frac{2x + 6y}{x} \\\\\n",
    "    16xy +48y^2 = 3x^2 + 16xy \\\\\n",
    "    x^2 +16y^2 = 64\n",
    "\\end{cases}$\n",
    "\n",
    "$\\begin{cases}\n",
    "    \\lambda_1 = - \\frac{2x + 6y}{x} \\\\\n",
    "    16y^2 = x^2 \\\\\n",
    "    x^2 + x^2 = 64\n",
    "\\end{cases}$\n",
    "\n",
    "$\\begin{array}{|l}\n",
    "    \\left(- \\frac{7}{2}, 4\\sqrt{2}, \\sqrt{2} \\right) \\\\\n",
    "    \\left(- \\frac{1}{2}, 4\\sqrt{2}, -\\sqrt{2} \\right) \\\\\n",
    "    \\left(- \\frac{1}{2}, -4\\sqrt{2}, \\sqrt{2} \\right) \\\\\n",
    "    \\left(- \\frac{7}{2}, -4\\sqrt{2}, -\\sqrt{2} \\right) \n",
    "\\end{array}$\n",
    "\n",
    "$L''_{xx} = 2\\lambda_1 + 4$\n",
    "\n",
    "$L''_{yy} =32\\lambda_1 + 64$\n",
    "\n",
    "$L''_{\\lambda_1\\lambda_1} = 0$\n",
    "\n",
    "$L''_{xy} = 12$\n",
    "\n",
    "$L''_{x\\lambda_1} = 2x$\n",
    "\n",
    "$L''_{y\\lambda_1} = 32y$\n",
    "\n",
    "$\\begin{pmatrix}\n",
    "    L''_{\\lambda_1\\lambda_1} & L''_{\\lambda_1 x} & L''_{\\lambda_1 y} \\\\\n",
    "    L''_{x \\lambda_1} & L''_{xx} & L''_{xy} \\\\\n",
    "    L''_{y \\lambda_1} & L''{yx} & L''{yy}\n",
    "\\end{pmatrix} =\n",
    "\\begin{pmatrix}\n",
    "  0 & 2x & 32y\\\\\n",
    "  2x & 2\\lambda_1 + 4 & 12\\\\\n",
    "  32y & 12 & 32\\lambda_1 + 64\n",
    "\\end{pmatrix}$\n",
    "\n",
    "$\\begin{vmatrix}\n",
    "  0 & 2x & 32y\\\\\n",
    "  2x & 2\\lambda_1 + 4 & 12\\\\\n",
    "  32y & 12 & 32\\lambda_1 + 64\n",
    "\\end{vmatrix} =$\n",
    "\n",
    "$-128 x^2 \\lambda_1-256x^2 + 1536xy - 2048y^2\\lambda_1 -4096y^2 = -256(x^2 + 16y^2) - 128\\lambda_1(x^2 + 16y^2) + 1536xy = -256 \\cdot 64 - 128\\lambda_1 \\cdot 64 + 1536xy = -16384 - 8192\\lambda_1 + 1536xy$\n",
    "\n",
    "$\\left(- \\frac{7}{2}, 4\\sqrt{2}, \\sqrt{2} \\right),\\Delta_1 = 24576, \\Delta_1 > 0  \\implies \\text{точка максимума}$\n",
    "\n",
    "$\\left(- \\frac{1}{2}, 4\\sqrt{2}, -\\sqrt{2} \\right),\\Delta_1 = -24576, \\Delta_1 < 0  \\implies \\text{точка минимума}$\n",
    "\n",
    "$\\left(- \\frac{1}{2}, -4\\sqrt{2}, \\sqrt{2} \\right),\\Delta_1 = -24576, \\Delta_1 < 0  \\implies \\text{точка минимума}$\n",
    "\n",
    "$\\left(- \\frac{7}{2}, -4\\sqrt{2}, -\\sqrt{2} \\right),\\Delta_1 = 24576, \\Delta_1 > 0  \\implies \\text{точка максимума}$"
   ]
  },
  {
   "cell_type": "markdown",
   "metadata": {},
   "source": [
    "### Задание №3. Численно найти хотя бы один действительных корень системы нелинейных уравнений."
   ]
  },
  {
   "cell_type": "markdown",
   "metadata": {},
   "source": [
    "$$\\begin{cases}\n",
    "    x^2 - y^2 + 3xy^3 - 2x^2y^2 +2x -3y - 5 = 0 \\\\\n",
    "    3y^3 - 2x^2 + 2x^3y - 5x^2y^2 + 5 = 0\n",
    "\\end{cases}$$"
   ]
  },
  {
   "cell_type": "code",
   "execution_count": 1,
   "metadata": {},
   "outputs": [
    {
     "name": "stdout",
     "output_type": "stream",
     "text": [
      "[-3.78730114 -0.32487076] 1\n"
     ]
    }
   ],
   "source": [
    "from scipy.optimize import fsolve\n",
    "\n",
    "def equations(p):\n",
    "    x, y = p\n",
    "    f1 = x**2 - y**2 + 3*x*y**3 - 2*x**2 * y**2 +2*x -3*y - 5\n",
    "    f2 = 3*y*3 - 2*x*2 + 2*x*3*y - 5*x*2*y*2 + 5\n",
    "    return(f1, f2)\n",
    "\n",
    "\n",
    "solv, info, ier, mesg =  fsolve(equations, (-5, -1), full_output=True)\n",
    "print (solv, ier)"
   ]
  },
  {
   "cell_type": "markdown",
   "metadata": {},
   "source": [
    "### Задание №4. Предложить алгоритм, который найдет все 5 действительных корней."
   ]
  },
  {
   "cell_type": "code",
   "execution_count": 2,
   "metadata": {},
   "outputs": [
    {
     "name": "stdout",
     "output_type": "stream",
     "text": [
      "(-3.65307996, -0.27476341) (2.21775363, 0.61019397) (2.49435653, 0.70831752) (1.37568714, -0.17475798) (1.27330206, 1.66203912)\n"
     ]
    }
   ],
   "source": [
    "import numpy as np\n",
    "from scipy.optimize import fsolve\n",
    "import math\n",
    "\n",
    "def equations(p):\n",
    "    x, y = p\n",
    "    return (x**2-y**2+3*x*y**3-2*x**2*y**2+2*x-3*y-5, 3*y**3-2*x**2+2*x**3*y-5*x**2*y**2+5)\n",
    "\n",
    "solv = set()\n",
    "length = 100\n",
    "step = 4\n",
    "\n",
    "for x in np.arange (-length, length, step):\n",
    "    for y in np.arange (-length, length, step):\n",
    "        (x, y), info, ier, mesg =  fsolve(equations, (x, y), full_output=True)\n",
    "        if (ier == 1): solv.add((int(x*10**8)/10**8, int(y*10**8)/10**8))\n",
    "            \n",
    "print (*solv)"
   ]
  }
 ],
 "metadata": {
  "kernelspec": {
   "display_name": "Python 3",
   "language": "python",
   "name": "python3"
  },
  "language_info": {
   "codemirror_mode": {
    "name": "ipython",
    "version": 3
   },
   "file_extension": ".py",
   "mimetype": "text/x-python",
   "name": "python",
   "nbconvert_exporter": "python",
   "pygments_lexer": "ipython3",
   "version": "3.8.8"
  }
 },
 "nbformat": 4,
 "nbformat_minor": 4
}

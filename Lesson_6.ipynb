{
 "cells": [
  {
   "cell_type": "markdown",
   "id": "b1af90fe",
   "metadata": {},
   "source": [
    "### 1. Найти производную выражения:"
   ]
  },
  {
   "cell_type": "markdown",
   "id": "eb5b5c10",
   "metadata": {},
   "source": [
    "$$\\sqrt{\\sin^2{(\\ln(x^3))}}= \\cos{|\\ln{(x^3)|}} \\cdot \\frac{1}{x^3} \\cdot 3x^2 = \\frac{3 \\cos{|\\ln{(x^3)|}}}{x}$$"
   ]
  },
  {
   "cell_type": "markdown",
   "id": "c1ece006",
   "metadata": {},
   "source": [
    "### 2. Найти выражение производной функции и ее значение в точке:"
   ]
  },
  {
   "cell_type": "markdown",
   "id": "f4425ebe",
   "metadata": {},
   "source": [
    "$$f(x) = \\cos{(x^2 + 3x)}, x_0 = \\sqrt{\\pi}$$\n",
    "\n",
    "$$f'(x) = -\\sin{(x^2 + 3x)} \\cdot (2x +3) = -(2x +3)\\sin{(x^2 + 3x)}$$\n",
    "\n",
    "$$f'(\\sqrt{\\pi}) = (2\\sqrt{\\pi} +3)\\sin{3\\sqrt{\\pi}} \\approx −5,38330241$$"
   ]
  },
  {
   "cell_type": "markdown",
   "id": "8d6e6062",
   "metadata": {},
   "source": [
    "### 3. Найти значение производной функции в точке:"
   ]
  },
  {
   "cell_type": "markdown",
   "id": "909f1fdd",
   "metadata": {},
   "source": [
    "$$f(x)= \\frac{x^3 - x^2 - x - 1}{1 + 2x + 3x^2 - 4x^3}, x_0 = 0$$\n",
    "\n",
    "$$f'(x)= \\frac{(3x^2 - 2x - 1)(1 + 2x + 3x^2 - 4x^3)-(x^3 - x^2 - x - 1)(2 + 6x - 12x^2)}{(1 + 2x + 3x^2 - 4x^3)^2}$$\n",
    "\n",
    "$$f'(x) = -\\frac{x^4 + 4x^3 +8x^2 -4x - 1}{(1 + 2x + 3x^2 - 4x^3)^2} = 1$$"
   ]
  },
  {
   "cell_type": "markdown",
   "id": "1d4ee988",
   "metadata": {},
   "source": [
    "### 4. Найти угол наклона касательной к графику функции в точке:"
   ]
  },
  {
   "cell_type": "markdown",
   "id": "0393c82b",
   "metadata": {},
   "source": [
    "$$f(x) = \\sqrt{3x} \\cdot \\ln{x}, x_0 = 1$$\n",
    "\n",
    "$$f'(x) = \\sqrt{3}(\\sqrt{x} \\cdot \\ln{x}) = \\sqrt{3}\\left(\\frac{1}{2\\sqrt{x}} \\ln{x} + \\sqrt{x} \\frac{1}{x}\\right) = \\sqrt{3}\\left(\\frac{\\ln{x}}{2\\sqrt{x}}+ \\frac{1}{\\sqrt{x}}\\right) = \\sqrt{3}\\left(\\frac{\\ln{(x)} + 2}{2\\sqrt{x}}\\right)$$\n",
    "\n",
    "$$f'(1) = \\sqrt{3}\\left(\\frac{\\ln{(1)} + 2}{2\\sqrt{1}}\\right) =\\sqrt{3}$$\n",
    "\n",
    "$$\\tan{\\sqrt{3}} = \\frac{\\pi}{3} = 60^\\circ$$"
   ]
  },
  {
   "cell_type": "code",
   "execution_count": null,
   "id": "1d46f924",
   "metadata": {},
   "outputs": [],
   "source": []
  }
 ],
 "metadata": {
  "kernelspec": {
   "display_name": "Python 3",
   "language": "python",
   "name": "python3"
  },
  "language_info": {
   "codemirror_mode": {
    "name": "ipython",
    "version": 3
   },
   "file_extension": ".py",
   "mimetype": "text/x-python",
   "name": "python",
   "nbconvert_exporter": "python",
   "pygments_lexer": "ipython3",
   "version": "3.8.8"
  }
 },
 "nbformat": 4,
 "nbformat_minor": 5
}
